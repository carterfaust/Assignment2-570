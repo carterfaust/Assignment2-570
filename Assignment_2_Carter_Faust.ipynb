{
 "cells": [
  {
   "cell_type": "code",
   "execution_count": 4,
   "id": "9af7249c",
   "metadata": {},
   "outputs": [],
   "source": [
    "import pandas as pd\n",
    "import numpy as np\n",
    "import random\n",
    "import statsmodels.api as sm\n",
    "from statsmodels.formula.api import ols\n",
    "import matplotlib.pyplot as plt"
   ]
  },
  {
   "cell_type": "markdown",
   "id": "3e2750b0",
   "metadata": {},
   "source": [
    "# Question 1"
   ]
  },
  {
   "cell_type": "markdown",
   "id": "cac51964",
   "metadata": {},
   "source": [
    "# a: No Covariates"
   ]
  },
  {
   "cell_type": "code",
   "execution_count": 5,
   "id": "117d3c30",
   "metadata": {},
   "outputs": [
    {
     "data": {
      "image/png": "[encoded data removed]",
      "text/plain": [
       "<Figure size 432x288 with 1 Axes>"
      ]
     },
     "metadata": {},
     "output_type": "display_data"
    }
   ],
   "source": [
    "#DAG\n",
    "import networkx as nx\n",
    "DAG=nx.DiGraph()\n",
    "DAG.add_edges_from([(\"X\",\"Y\"),(\"e\",\"Y\")])\n",
    "plt.tight_layout()\n",
    "nx.draw_networkx(DAG, arrows=True)"
   ]
  },
  {
   "cell_type": "code",
   "execution_count": 25,
   "id": "8a6d9bb4",
   "metadata": {},
   "outputs": [],
   "source": [
    "#Real life example:\n",
    "#Randomly assign a treatment drug to some patients, other patients get a placebo. An example may be a weight loss drug.\n",
    "#X is the treatment (ie drug or placebo assigment). Y reflects the outcome (ie weight of patients after assignment).\n",
    "#(Assume e is the error term) "
   ]
  },
  {
   "cell_type": "code",
   "execution_count": 6,
   "id": "01783a6a",
   "metadata": {},
   "outputs": [],
   "source": [
    "class MC_Simulator():\n",
    "    \n",
    "    #Initialize\n",
    "    def __init__(self,n_rep):\n",
    "        self.n_rep = n_rep\n",
    "        #n_rep= number of MC (monte carlo) replications \n",
    "    \n",
    "    #Data generating process\n",
    "    def simulate_data(self, a, b,n,sigma):\n",
    "        #Let a= intercept, b=slope, n=sample size, sigma=error variance\n",
    "        #Randomly draw X from a uniform distribution and e from a normal distribution\n",
    "        X = np.random.uniform(0,1,n)\n",
    "        e = np.random.normal(0,10,n)\n",
    "        Y = a+b*X+e\n",
    "        return (Y,X)\n",
    "    \n",
    "    #Define the OLS model and get parameters\n",
    "    def estimate_ols_params(self,Y,X):\n",
    "        mod = sm.OLS(Y,sm.add_constant(X))\n",
    "        res = mod.fit()\n",
    "        return res.params\n",
    "    \n",
    "    #Pass generated data through the OLS model above to get estimates for a and b\n",
    "    def run_mc_simulation(self,a,b,n,sigma):\n",
    "        a_estimates = []\n",
    "        b_estimates = []\n",
    "        for rep in range(self.n_rep):\n",
    "            Y,X = self.simulate_data(a,b,n,sigma)\n",
    "            #store estimates in a list, append with every iteration\n",
    "            a_hat,b_hat = self.estimate_ols_params(Y,X)\n",
    "            a_estimates = a_estimates + [a_hat]\n",
    "            b_estimates = b_estimates + [b_hat]\n",
    "        return a_estimates, b_estimates\n",
    "    \n",
    "    #Summarize a and b estimates with mean\n",
    "    def summarize_mc_simulation(self,a,b,n,sigma):\n",
    "        a_estimates, b_estimates = self.run_mc_simulation(a,b,n,sigma)\n",
    "        print(f'Mean intercept intercept={np.mean(a_estimates):.3f} \\n')\n",
    "        print(f'Mean intercept slope={np.mean(b_estimates):.3f} \\n')\n",
    "    \n",
    "    #Plot parameter estimates\n",
    "    def plot_parameter_estimates(self,a,b,n,sigma,alpha):\n",
    "        a_estimates, b_estimates = self.run_mc_simulation(a,b,n,sigma)\n",
    "        fig = plt.figure()\n",
    "        plt.hist(a_estimates, label = 'intercept', alpha = alpha)\n",
    "        plt.hist(b_estimates, label = 'slope', alpha = alpha)\n",
    "        plt.legend()"
   ]
  },
  {
   "cell_type": "code",
   "execution_count": 7,
   "id": "cee8503a",
   "metadata": {
    "scrolled": true
   },
   "outputs": [
    {
     "name": "stdout",
     "output_type": "stream",
     "text": [
      "Mean intercept intercept=1.670 \n",
      "\n",
      "Mean intercept slope=-0.093 \n",
      "\n"
     ]
    },
    {
     "data": {
      "image/png": "[encoded data removed]",
      "text/plain": [
       "<Figure size 432x288 with 1 Axes>"
      ]
     },
     "metadata": {
      "needs_background": "light"
     },
     "output_type": "display_data"
    }
   ],
   "source": [
    "#MC simulation for 100 replications\n",
    "mcSim = MC_Simulator(100)\n",
    "mcSim.summarize_mc_simulation(1,2,10,0.1)\n",
    "mcSim.plot_parameter_estimates(1,2,10,0.1,.3)"
   ]
  },
  {
   "cell_type": "code",
   "execution_count": 8,
   "id": "d53f695a",
   "metadata": {},
   "outputs": [
    {
     "name": "stdout",
     "output_type": "stream",
     "text": [
      "Mean intercept intercept=1.042 \n",
      "\n",
      "Mean intercept slope=1.916 \n",
      "\n"
     ]
    },
    {
     "data": {
      "image/png": "[encoded data removed]",
      "text/plain": [
       "<Figure size 432x288 with 1 Axes>"
      ]
     },
     "metadata": {
      "needs_background": "light"
     },
     "output_type": "display_data"
    }
   ],
   "source": [
    "#MC simulation for 1000 replications\n",
    "mcSim = MC_Simulator(1000)\n",
    "mcSim.summarize_mc_simulation(1,2,10,0.1)\n",
    "mcSim.plot_parameter_estimates(1,2,10,0.1,.3)"
   ]
  },
  {
   "cell_type": "code",
   "execution_count": 9,
   "id": "05214341",
   "metadata": {},
   "outputs": [
    {
     "name": "stdout",
     "output_type": "stream",
     "text": [
      "N=100: bias=-9.637989603871016, RMSE=105.52793344066386, Size of Treatment Effect=11.637989603871016\n",
      "N=1000: bias=4.670662781691044, RMSE=1113.7311743039002, Size of Treatment Effect=-2.6706627816910444\n"
     ]
    }
   ],
   "source": [
    "#Calculate bias, rmse, size of treatment effect estimate\n",
    "N=[100,1000]\n",
    "a=1\n",
    "b=2\n",
    "n=10\n",
    "for N in [100,1000]:\n",
    "    slope_estimates = []\n",
    "    sum_bias= 0\n",
    "    for mc_replication in range(N):\n",
    "        X = np.random.uniform(0,1,n)\n",
    "        e = np.random.normal(0,10,n)\n",
    "        Y = a+b*X+e\n",
    "        mod = sm.OLS(Y,sm.add_constant(X))\n",
    "        res = mod.fit()\n",
    "        slope_estimates = slope_estimates + [res.params[1]]\n",
    "        bias = b - res.params[1]\n",
    "        sum_bias += bias\n",
    "    rmse = np.sqrt(np.mean(sum_bias**2))\n",
    "    size = res.params[1]\n",
    "    print(f'N={N}: bias={bias}, RMSE={rmse}, Size of Treatment Effect={size}')"
   ]
  },
  {
   "cell_type": "markdown",
   "id": "c26cfa98",
   "metadata": {},
   "source": [
    "# b: Control for covariates"
   ]
  },
  {
   "cell_type": "code",
   "execution_count": 10,
   "id": "7819a69d",
   "metadata": {},
   "outputs": [],
   "source": [
    "#Add two covariates to the equation: height and sex. \n",
    "#Height is in cm. \n",
    "#Sex=0 for females, sex=1 for males. \n",
    "\n",
    "class MC_Simulator():\n",
    "    \n",
    "    #Initialize\n",
    "    def __init__(self,n_rep):\n",
    "        self.n_rep = n_rep\n",
    "        #n_rep= number of MC (monte carlo) replications \n",
    "    \n",
    "    #Data generating process\n",
    "    def simulate_data(self, a, b,n,c,d,sigma):\n",
    "        #Let a= intercept, b=slope, n=sample size, c=coefficient on height, d= coefficient on sex,sigma=error variance\n",
    "        #Randomly draw X from a uniform distribution and e from a normal distribution\n",
    "        X = np.random.uniform(0,1,n)\n",
    "        e = np.random.normal(0,10,n)\n",
    "        #Randomly draw height from a normal distribution \n",
    "        height=np.random.normal(176,6,n)\n",
    "        #Randomly draw sex from a uniform distribution \n",
    "        sex=np.random.uniform(0,1,n)\n",
    "        Y = a+b*X+c*height+d*sex+e\n",
    "        xi=np.array([X,height,sex])\n",
    "        Y=np.array([Y])\n",
    "        return (Y,xi)\n",
    "    \n",
    "    #Define the OLS model and get parameters\n",
    "    def estimate_ols_params(self,Y,xi):\n",
    "        #xi=np.delete(xi,0,1)\n",
    "        Y=np.transpose(Y,(1,0))\n",
    "        xi=np.transpose(xi,(1,0))\n",
    "        #print(xi.shape)\n",
    "        #print(Y.shape)\n",
    "        mod = sm.OLS(Y,sm.add_constant(xi))\n",
    "        res = mod.fit()\n",
    "        #print(res.params)\n",
    "        #print(res.summary())\n",
    "        return res.params\n",
    "    \n",
    "    #Pass generated data through the OLS model above to get estimates for a and b\n",
    "    def run_mc_simulation(self,a,b,n,c,d,sigma):\n",
    "        a_estimates = []\n",
    "        b_estimates = []\n",
    "        c_estimates = []\n",
    "        d_estimates = []\n",
    "        for rep in range(self.n_rep):\n",
    "            Y,xi = self.simulate_data(a,b,n,c,d,sigma)\n",
    "            #store estimates in a list, append with every iteration\n",
    "            a_hat,b_hat,c_hat,d_hat = self.estimate_ols_params(Y,xi)\n",
    "            a_estimates = a_estimates + [a_hat]\n",
    "            b_estimates = b_estimates + [b_hat]\n",
    "            c_estimates = c_estimates + [c_hat]\n",
    "            d_estimates = d_estimates + [d_hat]\n",
    "        return a_estimates, b_estimates, c_estimates, d_estimates\n",
    "    \n",
    "    #Summarize a,b,c,d estimates with mean\n",
    "    def summarize_mc_simulation(self,a,b,n,c,d,sigma):\n",
    "        a_estimates, b_estimates, c_estimates, d_estimates = self.run_mc_simulation(a,b,n,c,d,sigma)\n",
    "        print(f'Mean intercept a={np.mean(a_estimates):.3f} \\n')\n",
    "        print(f'Mean slope treatment b={np.mean(b_estimates):.3f} \\n')\n",
    "        print(f'Mean slope height c={np.mean(c_estimates):.3f} \\n')\n",
    "        print(f'Mean slope sex d={np.mean(d_estimates):.3f} \\n')\n",
    "    \n",
    "    #Plot parameter estimates\n",
    "    def plot_parameter_estimates(self,a,b,n,c,d,sigma,alpha):\n",
    "        a_estimates, b_estimates, c_estimates, d_estimates = self.run_mc_simulation(a,b,n,c,d,sigma)\n",
    "        fig = plt.figure()\n",
    "        plt.hist(a_estimates, label = 'intercept', alpha = alpha)\n",
    "        plt.hist(b_estimates, label = 'b', alpha = alpha)\n",
    "        plt.hist(c_estimates, label = 'c', alpha = alpha)\n",
    "        plt.hist(d_estimates, label = 'd', alpha = alpha)\n",
    "        plt.legend()"
   ]
  },
  {
   "cell_type": "code",
   "execution_count": 11,
   "id": "7678c70e",
   "metadata": {},
   "outputs": [
    {
     "name": "stdout",
     "output_type": "stream",
     "text": [
      "Mean intercept a=-9.553 \n",
      "\n",
      "Mean slope treatment b=4.059 \n",
      "\n",
      "Mean slope height c=0.251 \n",
      "\n",
      "Mean slope sex d=2.753 \n",
      "\n"
     ]
    },
    {
     "data": {
      "image/png": "[encoded data removed]",
      "text/plain": [
       "<Figure size 432x288 with 1 Axes>"
      ]
     },
     "metadata": {
      "needs_background": "light"
     },
     "output_type": "display_data"
    }
   ],
   "source": [
    "#MC simulation for 100 replications\n",
    "mcSim = MC_Simulator(100)\n",
    "mcSim.summarize_mc_simulation(1,2,10,0.2,0.3,0.1)\n",
    "mcSim.plot_parameter_estimates(1,2,10,0.2,0.3,0.1,.3)"
   ]
  },
  {
   "cell_type": "code",
   "execution_count": 12,
   "id": "3db3094f",
   "metadata": {},
   "outputs": [
    {
     "name": "stdout",
     "output_type": "stream",
     "text": [
      "Mean intercept a=-2.198 \n",
      "\n",
      "Mean slope treatment b=1.737 \n",
      "\n",
      "Mean slope height c=0.219 \n",
      "\n",
      "Mean slope sex d=0.176 \n",
      "\n"
     ]
    },
    {
     "data": {
      "image/png": "[encoded data removed]",
      "text/plain": [
       "<Figure size 432x288 with 1 Axes>"
      ]
     },
     "metadata": {
      "needs_background": "light"
     },
     "output_type": "display_data"
    }
   ],
   "source": [
    "#MC simulation for 1000 replications\n",
    "mcSim = MC_Simulator(1000)\n",
    "mcSim.summarize_mc_simulation(1,2,10,0.2,0.3,0.1)\n",
    "mcSim.plot_parameter_estimates(1,2,10,0.2,0.3,0.1,.3)"
   ]
  },
  {
   "cell_type": "code",
   "execution_count": 13,
   "id": "cfaef17e",
   "metadata": {},
   "outputs": [
    {
     "name": "stdout",
     "output_type": "stream",
     "text": [
      "N=100: bias=0.4698035240425362, RMSE=76.16160032449736, Size of Treatment Effect=1.5301964759574638\n",
      "N=1000: bias=-16.19113448866195, RMSE=4.425670263904582, Size of Treatment Effect=18.19113448866195\n"
     ]
    }
   ],
   "source": [
    "#Calculate bias, rmse, size of treatment effect estimate\n",
    "N=[100,1000]\n",
    "a=1\n",
    "b=2\n",
    "c=0.2\n",
    "d=0.3\n",
    "n=10\n",
    "for N in [100,1000]:\n",
    "    slope_estimates = []\n",
    "    sum_bias= 0\n",
    "    for mc_replication in range(N):\n",
    "        X = np.random.uniform(0,1,n)\n",
    "        e = np.random.normal(0,10,n)\n",
    "        height=np.random.normal(176,6,n)\n",
    "        sex=np.random.uniform(0,1,n)\n",
    "        Y = a+b*X+c*height+d*sex+e\n",
    "        xi=np.array([X,height,sex])\n",
    "        Y=np.array([Y])\n",
    "        Y=np.transpose(Y,(1,0))\n",
    "        xi=np.transpose(xi,(1,0))\n",
    "        mod = sm.OLS(Y,sm.add_constant(xi))\n",
    "        res = mod.fit()\n",
    "        slope_estimates = slope_estimates + [res.params[1]]\n",
    "        bias = b - res.params[1]\n",
    "        sum_bias += bias\n",
    "    rmse = np.sqrt(np.mean(sum_bias**2))\n",
    "    size = res.params[1]\n",
    "    print(f'N={N}: bias={bias}, RMSE={rmse}, Size of Treatment Effect={size}')"
   ]
  },
  {
   "cell_type": "code",
   "execution_count": 14,
   "id": "42eac926",
   "metadata": {
    "scrolled": true
   },
   "outputs": [
    {
     "data": {
      "image/png": "[encoded data removed]",
      "text/plain": [
       "<Figure size 432x288 with 1 Axes>"
      ]
     },
     "metadata": {},
     "output_type": "display_data"
    }
   ],
   "source": [
    "#DAG\n",
    "import networkx as nx\n",
    "DAG=nx.DiGraph()\n",
    "DAG.add_edges_from([(\"X\",\"Y\"),(\"e\",\"Y\"),(\"Sex\",\"Y\"),(\"Height\",\"Y\")])\n",
    "plt.tight_layout()\n",
    "nx.draw_networkx(DAG, arrows=True)"
   ]
  },
  {
   "cell_type": "markdown",
   "id": "ffbb5324",
   "metadata": {},
   "source": [
    "# Question 2"
   ]
  },
  {
   "cell_type": "markdown",
   "id": "068050ed",
   "metadata": {},
   "source": [
    "# Part a: fail to control for confounder"
   ]
  },
  {
   "cell_type": "code",
   "execution_count": 198,
   "id": "ac238f75",
   "metadata": {
    "scrolled": true
   },
   "outputs": [
    {
     "data": {
      "image/png": "[encoded data removed]",
      "text/plain": [
       "<Figure size 432x288 with 1 Axes>"
      ]
     },
     "metadata": {},
     "output_type": "display_data"
    }
   ],
   "source": [
    "#Create a DAG\n",
    "import networkx as nx\n",
    "DAG=nx.DiGraph()\n",
    "DAG.add_edges_from([(\"X\",\"Y\"),(\"G\",\"Y\"),(\"u\",\"Y\"),(\"u\",\"X\"),(\"e\",\"Y\")])\n",
    "plt.tight_layout()\n",
    "nx.draw_networkx(DAG, arrows=True)"
   ]
  },
  {
   "cell_type": "code",
   "execution_count": 72,
   "id": "2c42fe3f",
   "metadata": {},
   "outputs": [],
   "source": [
    "#Real life example: Let Y be earnings, X be years of schooling, G be gender, e be the error term, and U be the confounder.\n",
    "#The confounder u in this situation could be ability.\n",
    "#This is because ability influences both Y and X. Higher levels of ability may lead to higher education and wages."
   ]
  },
  {
   "cell_type": "code",
   "execution_count": 15,
   "id": "6b4422e8",
   "metadata": {},
   "outputs": [],
   "source": [
    "from linearmodels.iv import IV2SLS\n",
    "\n",
    "#Let confounder be u. The confounder is correlated with X\n",
    "\n",
    "class MC_Simulator():\n",
    "    \n",
    "    #Initialize\n",
    "    def __init__(self,n_rep):\n",
    "        self.n_rep = n_rep\n",
    "        #n_rep= number of MC (monte carlo) replications \n",
    "    \n",
    "    #Data generating process\n",
    "    def simulate_data(self, a, b,c,n,sigma):\n",
    "        #Let a= intercept, b=slope, n=sample size, sigma=error variance\n",
    "        #Randomly draw u from a uniform distribution and e from a normal distribution\n",
    "        u = np.random.uniform(0,1,n)\n",
    "        e = np.random.normal(0,10,n)\n",
    "        #X is correlated with u, assume correlation of 0.2\n",
    "        X=0.2*u\n",
    "        G = np.random.uniform(0,1,n)\n",
    "        Y = a+b*X+c*G+e\n",
    "        xi=np.array([X,G])\n",
    "        Y=np.array([Y])\n",
    "        return (Y,xi)\n",
    "    \n",
    "    #Define the OLS model and get parameters\n",
    "    def estimate_ols_params(self,Y,xi):\n",
    "        Y=np.transpose(Y,(1,0))\n",
    "        xi=np.transpose(xi,(1,0))\n",
    "        mod = sm.OLS(Y,sm.add_constant(xi))\n",
    "        res = mod.fit()\n",
    "        return res.params\n",
    "    \n",
    "    #Pass generated data through the OLS model above to get estimates for a and b\n",
    "    def run_mc_simulation(self,a,b,c,n,sigma):\n",
    "        a_estimates = []\n",
    "        b_estimates = []\n",
    "        c_estimates = []\n",
    "        for rep in range(self.n_rep):\n",
    "            Y,xi = self.simulate_data(a,b,c,n,sigma)\n",
    "            #store estimates in a list, append with every iteration\n",
    "            a_hat,b_hat,c_hat = self.estimate_ols_params(Y,xi)\n",
    "            a_estimates = a_estimates + [a_hat]\n",
    "            b_estimates = b_estimates + [b_hat]\n",
    "            c_estimates = c_estimates + [c_hat]\n",
    "        return a_estimates, b_estimates, c_estimates\n",
    "    \n",
    "    #Summarize a and b estimates with mean\n",
    "    def summarize_mc_simulation(self,a,b,c,n,sigma):\n",
    "        a_estimates, b_estimates, c_estimates = self.run_mc_simulation(a,b,c,n,sigma)\n",
    "        print(f'Mean intercept intercept={np.mean(a_estimates):.3f} \\n')\n",
    "        print(f'Mean intercept slope={np.mean(b_estimates):.3f} \\n')\n",
    "        print(f'Mean intercept slope c={np.mean(c_estimates):.3f} \\n')\n",
    "    \n",
    "    #Plot parameter estimates\n",
    "    def plot_parameter_estimates(self,a,b,c,n,sigma,alpha):\n",
    "        a_estimates, b_estimates, c_estimates = self.run_mc_simulation(a,b,c,n,sigma)\n",
    "        fig = plt.figure()\n",
    "        plt.hist(a_estimates, label = 'intercept', alpha = alpha)\n",
    "        plt.hist(b_estimates, label = 'slope', alpha = alpha)\n",
    "        plt.hist(c_estimates, label = 'c slope', alpha = alpha)\n",
    "        plt.legend()"
   ]
  },
  {
   "cell_type": "code",
   "execution_count": 16,
   "id": "ec4ebb9a",
   "metadata": {},
   "outputs": [
    {
     "name": "stdout",
     "output_type": "stream",
     "text": [
      "Mean intercept intercept=2.408 \n",
      "\n",
      "Mean intercept slope=-6.204 \n",
      "\n",
      "Mean intercept slope c=-0.501 \n",
      "\n"
     ]
    },
    {
     "data": {
      "image/png": "[encoded data removed]",
      "text/plain": [
       "<Figure size 432x288 with 1 Axes>"
      ]
     },
     "metadata": {
      "needs_background": "light"
     },
     "output_type": "display_data"
    }
   ],
   "source": [
    "#MC simulation for 100 replications\n",
    "mcSim = MC_Simulator(100)\n",
    "mcSim.summarize_mc_simulation(1,2,0.3,10,0.1)\n",
    "mcSim.plot_parameter_estimates(1,2,0.3,10,0.1,.3)"
   ]
  },
  {
   "cell_type": "code",
   "execution_count": 17,
   "id": "5b0a550d",
   "metadata": {
    "scrolled": true
   },
   "outputs": [
    {
     "name": "stdout",
     "output_type": "stream",
     "text": [
      "Mean intercept intercept=0.634 \n",
      "\n",
      "Mean intercept slope=4.828 \n",
      "\n",
      "Mean intercept slope c=0.400 \n",
      "\n"
     ]
    },
    {
     "data": {
      "image/png": "[encoded data removed]",
      "text/plain": [
       "<Figure size 432x288 with 1 Axes>"
      ]
     },
     "metadata": {
      "needs_background": "light"
     },
     "output_type": "display_data"
    }
   ],
   "source": [
    "#MC simulation for 1000 replications\n",
    "mcSim = MC_Simulator(1000)\n",
    "mcSim.summarize_mc_simulation(1,2,0.3,10,0.1)\n",
    "mcSim.plot_parameter_estimates(1,2,0.3,10,0.1,.3)"
   ]
  },
  {
   "cell_type": "code",
   "execution_count": 18,
   "id": "c3c0b840",
   "metadata": {},
   "outputs": [
    {
     "name": "stdout",
     "output_type": "stream",
     "text": [
      "N=100: bias=54.8103590135932, RMSE=783.3424489949725, Size of Treatment Effect=-52.8103590135932\n",
      "N=1000: bias=12.249020576108236, RMSE=2508.8595245484207, Size of Treatment Effect=-10.249020576108236\n"
     ]
    }
   ],
   "source": [
    "#Calculate bias, rmse, size of treatment effect estimate\n",
    "N=[100,1000]\n",
    "a=1\n",
    "b=2\n",
    "c=0.3\n",
    "n=10\n",
    "for N in [100,1000]:\n",
    "    slope_estimates = []\n",
    "    sum_bias= 0\n",
    "    for mc_replication in range(N):\n",
    "        u = np.random.uniform(0,1,n)\n",
    "        e = np.random.normal(0,10,n)\n",
    "        #X is correlated with u, assume correlation of 0.2\n",
    "        X=0.2*u\n",
    "        G = np.random.uniform(0,1,n)\n",
    "        Y = a+b*X+c*G+e\n",
    "        xi=np.array([X,G])\n",
    "        Y=np.array([Y])\n",
    "        Y=np.transpose(Y,(1,0))\n",
    "        xi=np.transpose(xi,(1,0))\n",
    "        mod = sm.OLS(Y,sm.add_constant(xi))\n",
    "        res = mod.fit()\n",
    "        slope_estimates = slope_estimates + [res.params[1]]\n",
    "        bias = b - res.params[1]\n",
    "        sum_bias += bias\n",
    "    rmse = np.sqrt(np.mean(sum_bias**2))\n",
    "    size = res.params[1]\n",
    "    print(f'N={N}: bias={bias}, RMSE={rmse}, Size of Treatment Effect={size}')"
   ]
  },
  {
   "cell_type": "markdown",
   "id": "2c0eaec0",
   "metadata": {},
   "source": [
    "# Part b: control for confounder"
   ]
  },
  {
   "cell_type": "code",
   "execution_count": 19,
   "id": "61f7e7d2",
   "metadata": {},
   "outputs": [],
   "source": [
    "#Part b: control for confounder u by adding instrumental variable Z\n",
    "\n",
    "from linearmodels.iv import IV2SLS\n",
    "\n",
    "class MC_Simulator():\n",
    "    \n",
    "    #Initialize\n",
    "    def __init__(self,n_rep):\n",
    "        self.n_rep = n_rep\n",
    "        #n_rep= number of MC (monte carlo) replications \n",
    "    \n",
    "    #Data generating process\n",
    "    def simulate_data(self, a, b,c,n,sigma):\n",
    "        #Let a= intercept, b=slope, n=sample size, sigma=error variance\n",
    "        #Randomly draw u from a uniform distribution and e from a normal distribution\n",
    "        u = np.random.uniform(0,1,n)\n",
    "        e = np.random.normal(0,10,n)\n",
    "        #X is correlated with u, assume correlation of 0.2\n",
    "        X=0.2*u\n",
    "        G = np.random.uniform(0,1,n)\n",
    "        Y = a+b*X+c*G+e\n",
    "        return (Y,X,G)\n",
    "    \n",
    "    #Define the OLS model and get parameters\n",
    "    def estimate_ols_params(self,Y,X,G):\n",
    "        Z=np.random.uniform(0,1,n)\n",
    "        #formula = 'Y ~ 1 + [X~Z]'\n",
    "        G=sm.add_constant(G)\n",
    "        mod = IV2SLS(dependent=Y, exog=G, endog=X, instruments=Z)\n",
    "        res = mod.fit()\n",
    "        return res.params\n",
    "    \n",
    "    #Pass generated data through the OLS model above to get estimates for a and b\n",
    "    def run_mc_simulation(self,a,b,c,n,sigma):\n",
    "        a_estimates = []\n",
    "        b_estimates = []\n",
    "        c_estimates = []\n",
    "        for rep in range(self.n_rep):\n",
    "            Y,X,G = self.simulate_data(a,b,c,n,sigma)\n",
    "            #store estimates in a list, append with every iteration\n",
    "            a_hat,b_hat,c_hat = self.estimate_ols_params(Y,X,G)\n",
    "            a_estimates = a_estimates + [a_hat]\n",
    "            b_estimates = b_estimates + [b_hat]\n",
    "            c_estimates = c_estimates + [c_hat]\n",
    "        return a_estimates, b_estimates, c_estimates\n",
    "    \n",
    "    #Summarize a and b estimates with mean\n",
    "    def summarize_mc_simulation(self,a,b,c,n,sigma):\n",
    "        a_estimates, b_estimates, c_estimates = self.run_mc_simulation(a,b,c,n,sigma)\n",
    "        print(f'Mean intercept intercept={np.mean(a_estimates):.3f} \\n')\n",
    "        print(f'Mean intercept slope={np.mean(b_estimates):.3f} \\n')\n",
    "        print(f'Mean intercept slope c={np.mean(c_estimates):.3f} \\n')\n",
    "    \n",
    "    #Plot parameter estimates\n",
    "    def plot_parameter_estimates(self,a,b,c,n,sigma,alpha):\n",
    "        a_estimates, b_estimates, c_estimates = self.run_mc_simulation(a,b,c,n,sigma)\n",
    "        fig = plt.figure()\n",
    "        plt.hist(a_estimates, label = 'intercept', alpha = alpha)\n",
    "        plt.hist(b_estimates, label = 'slope', alpha = alpha)\n",
    "        plt.hist(c_estimates, label = 'c slope', alpha = alpha)\n",
    "        plt.legend()"
   ]
  },
  {
   "cell_type": "code",
   "execution_count": 20,
   "id": "7e18d716",
   "metadata": {
    "scrolled": true
   },
   "outputs": [
    {
     "name": "stdout",
     "output_type": "stream",
     "text": [
      "Mean intercept intercept=-36.183 \n",
      "\n",
      "Mean intercept slope=24.848 \n",
      "\n",
      "Mean intercept slope c=292.990 \n",
      "\n"
     ]
    },
    {
     "data": {
      "image/png": "[encoded data removed]",
      "text/plain": [
       "<Figure size 432x288 with 1 Axes>"
      ]
     },
     "metadata": {
      "needs_background": "light"
     },
     "output_type": "display_data"
    }
   ],
   "source": [
    "#MC simulation for 100 replications\n",
    "mcSim = MC_Simulator(100)\n",
    "mcSim.summarize_mc_simulation(1,2,0.2,10,0.1)\n",
    "mcSim.plot_parameter_estimates(1,2,0.2,10,0.1,.3)"
   ]
  },
  {
   "cell_type": "code",
   "execution_count": 21,
   "id": "c98e3429",
   "metadata": {},
   "outputs": [
    {
     "name": "stdout",
     "output_type": "stream",
     "text": [
      "Mean intercept intercept=23.065 \n",
      "\n",
      "Mean intercept slope=-2.337 \n",
      "\n",
      "Mean intercept slope c=-165.290 \n",
      "\n"
     ]
    },
    {
     "data": {
      "image/png": "[encoded data removed]",
      "text/plain": [
       "<Figure size 432x288 with 1 Axes>"
      ]
     },
     "metadata": {
      "needs_background": "light"
     },
     "output_type": "display_data"
    }
   ],
   "source": [
    "#MC simulation for 1000 replications\n",
    "mcSim = MC_Simulator(1000)\n",
    "mcSim.summarize_mc_simulation(1,2,0.2,10,0.1)\n",
    "mcSim.plot_parameter_estimates(1,2,0.2,10,0.1,.3)"
   ]
  },
  {
   "cell_type": "code",
   "execution_count": 22,
   "id": "ef2fbebf",
   "metadata": {},
   "outputs": [
    {
     "name": "stdout",
     "output_type": "stream",
     "text": [
      "N=100: bias=11.623040913277336, RMSE=1933.3450488549645, Size of Treatment Effect=-9.623040913277336\n",
      "N=1000: bias=24.11259411181709, RMSE=15856.906224587581, Size of Treatment Effect=-22.11259411181709\n"
     ]
    }
   ],
   "source": [
    "#Calculate bias, rmse, size of treatment effect estimate\n",
    "N=[100,1000]\n",
    "a=1\n",
    "b=2\n",
    "c=0.2\n",
    "n=10\n",
    "for N in [100,1000]:\n",
    "    slope_estimates = []\n",
    "    sum_bias= 0\n",
    "    for mc_replication in range(N):\n",
    "        u = np.random.uniform(0,1,n)\n",
    "        e = np.random.normal(0,10,n)\n",
    "        #X is correlated with u, assume correlation of 0.2\n",
    "        X=0.2*u\n",
    "        G = np.random.uniform(0,1,n)\n",
    "        Y = a+b*X+c*G+e\n",
    "        Z=np.random.uniform(0,1,n)\n",
    "        G=sm.add_constant(G)\n",
    "        mod = IV2SLS(dependent=Y, exog=G, endog=X, instruments=Z)\n",
    "        res = mod.fit()\n",
    "        slope_estimates = slope_estimates + [res.params[1]]\n",
    "        bias = b - res.params[1]\n",
    "        sum_bias += bias\n",
    "    rmse = np.sqrt(np.mean(sum_bias**2))\n",
    "    size = res.params[1]\n",
    "    print(f'N={N}: bias={bias}, RMSE={rmse}, Size of Treatment Effect={size}')"
   ]
  },
  {
   "cell_type": "code",
   "execution_count": 23,
   "id": "40baef99",
   "metadata": {
    "scrolled": false
   },
   "outputs": [
    {
     "data": {
      "image/png": "[encoded data removed]",
      "text/plain": [
       "<Figure size 432x288 with 1 Axes>"
      ]
     },
     "metadata": {},
     "output_type": "display_data"
    }
   ],
   "source": [
    "#Create a DAG\n",
    "import networkx as nx\n",
    "DAG=nx.DiGraph()\n",
    "DAG.add_edges_from([(\"Z\",\"X\"),(\"X\",\"Y\"),(\"G\",\"Y\"),(\"e\",\"Y\"),(\"u\",\"Y\"),(\"u\",\"X\")])\n",
    "plt.tight_layout()\n",
    "nx.draw_networkx(DAG, arrows=True)"
   ]
  },
  {
   "cell_type": "code",
   "execution_count": 1,
   "id": "b0f3248c",
   "metadata": {},
   "outputs": [],
   "source": [
    "#Real life example: Let Y be earnings and X be compulsory years of schooling. G is gender. Assume gender only affects Y.\n",
    "#The confounder u in this situation could be ability, ability influences both Y and X. \n",
    "#For example, higher levels of ability may lead to higher education and wages.\n",
    "#Let Z be the instrumental variable. In this case, Z could be quarter of birth. We assume quarter of birth:\n",
    "#1. Has a causal effect on years of school (X). Due to schooling laws in the US, you enroll in school based on qob. \n",
    "#2. Has no direct effect on wage (Y), it only affects Y through X.\n",
    "#3. Has no confounding effect on Y.\n"
   ]
  },
  {
   "cell_type": "markdown",
   "id": "bf508133",
   "metadata": {},
   "source": [
    "# Question 3"
   ]
  },
  {
   "cell_type": "markdown",
   "id": "39c2b22a",
   "metadata": {},
   "source": [
    "# Part a"
   ]
  },
  {
   "cell_type": "code",
   "execution_count": 24,
   "id": "249d5f8f",
   "metadata": {
    "scrolled": true
   },
   "outputs": [
    {
     "data": {
      "image/png": "[encoded data removed]",
      "text/plain": [
       "<Figure size 432x288 with 1 Axes>"
      ]
     },
     "metadata": {},
     "output_type": "display_data"
    }
   ],
   "source": [
    "#Create a DAG\n",
    "import networkx as nx\n",
    "DAG=nx.DiGraph()\n",
    "DAG.add_edges_from([(\"X\",\"Y\"), (\"e\",\"Y\"), (\"X\",\"O\"),(\"O\",\"Y\")])\n",
    "plt.tight_layout()\n",
    "nx.draw_networkx(DAG, arrows=True)"
   ]
  },
  {
   "cell_type": "code",
   "execution_count": 25,
   "id": "23683ead",
   "metadata": {},
   "outputs": [],
   "source": [
    "#Real life example:\n",
    "#The treatment (X) is \"email\", indicating whether or not an email is sent to potential customers.\n",
    "#The variable in the path of the treatment is \"opened\" (O), indicating whether or not the email is opened. \n",
    "#\"Payments\" (Y) is the outcome of whether or not the customer pays. It is caused by both \"email\" and \"opened\".\n",
    "#Opened is caused by the \"email\" treatment. Opening the email causes payments. Therefore it is a form of selection bias."
   ]
  },
  {
   "cell_type": "code",
   "execution_count": 59,
   "id": "17fd9cf0",
   "metadata": {},
   "outputs": [],
   "source": [
    "#Control for the variable in between the path from cause to effect. \n",
    "#Utilize statsmodels mediation package"
   ]
  },
  {
   "cell_type": "code",
   "execution_count": 26,
   "id": "28dc55fe",
   "metadata": {},
   "outputs": [],
   "source": [
    "import statsmodels.api as sm\n",
    "from statsmodels.stats.mediation import Mediation"
   ]
  },
  {
   "cell_type": "code",
   "execution_count": 27,
   "id": "87be32e3",
   "metadata": {
    "scrolled": true
   },
   "outputs": [
    {
     "data": {
      "text/html": [
       "<div>\n",
       "<style scoped>\n",
       "    .dataframe tbody tr th:only-of-type {\n",
       "        vertical-align: middle;\n",
       "    }\n",
       "\n",
       "    .dataframe tbody tr th {\n",
       "        vertical-align: top;\n",
       "    }\n",
       "\n",
       "    .dataframe thead th {\n",
       "        text-align: right;\n",
       "    }\n",
       "</style>\n",
       "<table border=\"1\" class=\"dataframe\">\n",
       "  <thead>\n",
       "    <tr style=\"text-align: right;\">\n",
       "      <th></th>\n",
       "      <th>Estimate</th>\n",
       "      <th>Lower CI bound</th>\n",
       "      <th>Upper CI bound</th>\n",
       "      <th>P-value</th>\n",
       "    </tr>\n",
       "  </thead>\n",
       "  <tbody>\n",
       "    <tr>\n",
       "      <th>ACME (control)</th>\n",
       "      <td>13.773417</td>\n",
       "      <td>-23.858787</td>\n",
       "      <td>53.929553</td>\n",
       "      <td>0.468</td>\n",
       "    </tr>\n",
       "    <tr>\n",
       "      <th>ACME (treated)</th>\n",
       "      <td>13.773417</td>\n",
       "      <td>-23.858787</td>\n",
       "      <td>53.929553</td>\n",
       "      <td>0.468</td>\n",
       "    </tr>\n",
       "    <tr>\n",
       "      <th>ADE (control)</th>\n",
       "      <td>-1.000000</td>\n",
       "      <td>-1.000000</td>\n",
       "      <td>-1.000000</td>\n",
       "      <td>0.000</td>\n",
       "    </tr>\n",
       "    <tr>\n",
       "      <th>ADE (treated)</th>\n",
       "      <td>-1.000000</td>\n",
       "      <td>-1.000000</td>\n",
       "      <td>-1.000000</td>\n",
       "      <td>0.000</td>\n",
       "    </tr>\n",
       "    <tr>\n",
       "      <th>Total effect</th>\n",
       "      <td>12.773417</td>\n",
       "      <td>-24.858787</td>\n",
       "      <td>52.929553</td>\n",
       "      <td>0.494</td>\n",
       "    </tr>\n",
       "    <tr>\n",
       "      <th>Prop. mediated (control)</th>\n",
       "      <td>1.039213</td>\n",
       "      <td>0.453183</td>\n",
       "      <td>1.745838</td>\n",
       "      <td>0.026</td>\n",
       "    </tr>\n",
       "    <tr>\n",
       "      <th>Prop. mediated (treated)</th>\n",
       "      <td>1.039213</td>\n",
       "      <td>0.453183</td>\n",
       "      <td>1.745838</td>\n",
       "      <td>0.026</td>\n",
       "    </tr>\n",
       "    <tr>\n",
       "      <th>ACME (average)</th>\n",
       "      <td>13.773417</td>\n",
       "      <td>-23.858787</td>\n",
       "      <td>53.929553</td>\n",
       "      <td>0.468</td>\n",
       "    </tr>\n",
       "    <tr>\n",
       "      <th>ADE (average)</th>\n",
       "      <td>-1.000000</td>\n",
       "      <td>-1.000000</td>\n",
       "      <td>-1.000000</td>\n",
       "      <td>0.000</td>\n",
       "    </tr>\n",
       "    <tr>\n",
       "      <th>Prop. mediated (average)</th>\n",
       "      <td>1.039213</td>\n",
       "      <td>0.453183</td>\n",
       "      <td>1.745838</td>\n",
       "      <td>0.026</td>\n",
       "    </tr>\n",
       "  </tbody>\n",
       "</table>\n",
       "</div>"
      ],
      "text/plain": [
       "                           Estimate  Lower CI bound  Upper CI bound  P-value\n",
       "ACME (control)            13.773417      -23.858787       53.929553    0.468\n",
       "ACME (treated)            13.773417      -23.858787       53.929553    0.468\n",
       "ADE (control)             -1.000000       -1.000000       -1.000000    0.000\n",
       "ADE (treated)             -1.000000       -1.000000       -1.000000    0.000\n",
       "Total effect              12.773417      -24.858787       52.929553    0.494\n",
       "Prop. mediated (control)   1.039213        0.453183        1.745838    0.026\n",
       "Prop. mediated (treated)   1.039213        0.453183        1.745838    0.026\n",
       "ACME (average)            13.773417      -23.858787       53.929553    0.468\n",
       "ADE (average)             -1.000000       -1.000000       -1.000000    0.000\n",
       "Prop. mediated (average)   1.039213        0.453183        1.745838    0.026"
      ]
     },
     "execution_count": 27,
     "metadata": {},
     "output_type": "execute_result"
    }
   ],
   "source": [
    "#Run 100 and 1000 simulations\n",
    "N=[100,1000]\n",
    "a= 1\n",
    "b= 2\n",
    "c= 1\n",
    "d= 3\n",
    "f= 2\n",
    "n= 10\n",
    "a_estimates=[]\n",
    "b_estimates=[]\n",
    "c_estimates=[]\n",
    "d_estimates=[]\n",
    "f_estimates=[]\n",
    "\n",
    "for i in N:    \n",
    "    for j in range(i):\n",
    "        #Randomly draw X from a uniform distribution and e from a normal distribution\n",
    "        X = np.random.uniform(0,1,n)\n",
    "        e = np.random.normal(0,10,n)\n",
    "        #Randomly draw O from a uniform distribution\n",
    "        O = np.random.uniform(0,1,n)\n",
    "\n",
    "        #Two formulas: \n",
    "        #Formula for \"opened\", showing causal effect of email (X) on opened (O) \n",
    "        O=c+d*X+e\n",
    "        #Formula for \"payment\", including causal effects of email(X) and opened (O)\n",
    "        Y = a+b*X+f*O+e\n",
    "\n",
    "        #Prepare parameters for models\n",
    "        xi=np.array([X,O])\n",
    "        xi=np.transpose(xi,(1,0))\n",
    "        Y=np.array([Y])\n",
    "        Y=np.transpose(Y,(1,0))\n",
    "        O=np.array([O])\n",
    "        O=np.transpose(O,(1,0))\n",
    "        X=np.array([X])\n",
    "        X=np.transpose(X,(1,0))\n",
    "\n",
    "        #Model for opened path (mediator model)\n",
    "        mediator_model = sm.OLS(O,sm.add_constant(X))\n",
    "        res1=mediator_model.fit()\n",
    "        c_hat,d_hat=res1.params\n",
    "        c_estimates= c_estimates+[c_hat]\n",
    "        d_estimates= d_estimates+[d_hat]\n",
    "\n",
    "        #Model for payment outcome\n",
    "        outcome_model = sm.OLS(Y,sm.add_constant(xi))\n",
    "        res2=outcome_model.fit()\n",
    "        a_hat,b_hat,f_hat=res2.params\n",
    "        a_estimates= a_estimates+[a_hat]\n",
    "        b_estimates= b_estimates+[b_hat]\n",
    "        f_estimates= f_estimates+[f_hat]    \n",
    "        \n",
    "#Overall model output\n",
    "med=Mediation(outcome_model,mediator_model,(1,1),2).fit()      \n",
    "med.summary()"
   ]
  },
  {
   "cell_type": "code",
   "execution_count": null,
   "id": "1d974400",
   "metadata": {},
   "outputs": [],
   "source": [
    "#ADE: average direct effect (direct effect of X on Y accounting for indirect effect of \"opened\")\n",
    "#Total effect: total effect of X on Y without \"opened\" O\n",
    "#ACME: average causal mediation effects (ie difference in coefficient on X if we excluded \"opened\"  \n",
    "#from the regression vs if we include \"opened\" in outcome regression : ACME= Total effect- ADE)"
   ]
  },
  {
   "cell_type": "code",
   "execution_count": 28,
   "id": "6c3db40a",
   "metadata": {},
   "outputs": [
    {
     "name": "stdout",
     "output_type": "stream",
     "text": [
      "N=100: bias=24.11259411181709, RMSE=2411.259411181709, Size of Treatment Effect=-22.11259411181709\n",
      "N=1000: bias=24.11259411181709, RMSE=24112.594111816506, Size of Treatment Effect=-22.11259411181709\n"
     ]
    }
   ],
   "source": [
    "#Calculate bias, rmse, size of treatment effect estimate\n",
    "N=[100,1000]\n",
    "a= 1\n",
    "b= 2\n",
    "c= 1\n",
    "d= 3\n",
    "f= 2\n",
    "n= 10\n",
    "for N in [100,1000]:\n",
    "    slope_estimates = []\n",
    "    sum_bias= 0\n",
    "    for i in range(N):\n",
    "        X = np.random.uniform(0,1,n)\n",
    "        e = np.random.normal(0,10,n)\n",
    "        O = np.random.uniform(0,1,n)\n",
    "        O=c+d*X+e\n",
    "        Y=a+b*X+f*O+e\n",
    "        xi=np.array([X,O])\n",
    "        xi=np.transpose(xi,(1,0))\n",
    "        Y=np.array([Y])\n",
    "        Y=np.transpose(Y,(1,0))\n",
    "        O=np.array([O])\n",
    "        O=np.transpose(O,(1,0))\n",
    "        X=np.array([X])\n",
    "        X=np.transpose(X,(1,0))\n",
    "        mediator_model = sm.OLS(O,sm.add_constant(X))\n",
    "        res1=mediator_model.fit()\n",
    "        outcome_model = sm.OLS(Y,sm.add_constant(xi))\n",
    "        res2=outcome_model.fit()\n",
    "        slope_estimates = slope_estimates + [res2.params[1]]\n",
    "        bias = b - res.params[1]\n",
    "        sum_bias += bias\n",
    "        \n",
    "    rmse = np.sqrt(np.mean(sum_bias**2))\n",
    "    size = res.params[1]\n",
    "    print(f'N={N}: bias={bias}, RMSE={rmse}, Size of Treatment Effect={size}')"
   ]
  },
  {
   "cell_type": "markdown",
   "id": "97ac86fb",
   "metadata": {},
   "source": [
    "# Part b"
   ]
  },
  {
   "cell_type": "code",
   "execution_count": null,
   "id": "995c1a80",
   "metadata": {},
   "outputs": [],
   "source": [
    "#Do not control for the variable in between the path from cause to effect. \n",
    "#In this case, this means don't account for \"opened\" between \"email\" and \"payment\"."
   ]
  },
  {
   "cell_type": "code",
   "execution_count": 29,
   "id": "e5fd1782",
   "metadata": {},
   "outputs": [],
   "source": [
    "class MC_Simulator():\n",
    "    \n",
    "    #Initialize\n",
    "    def __init__(self,n_rep):\n",
    "        self.n_rep = n_rep\n",
    "        #n_rep= number of MC (monte carlo) replications \n",
    "    \n",
    "    #Data generating process\n",
    "    def simulate_data(self, a, b,c,d,f,n,sigma):\n",
    "        #Let a= intercept, b=slope, n=sample size, sigma=error variance\n",
    "        #Randomly draw X from a uniform distribution and e from a normal distribution\n",
    "        X = np.random.uniform(0,1,n)\n",
    "        e = np.random.normal(0,10,n)\n",
    "        #O=opened, in path from X to Y\n",
    "        O=np.random.uniform(0,1,n)\n",
    "        O=c+d*X+e\n",
    "        Y=a+b*X+f*O+e\n",
    "        xi=np.array([X,O])\n",
    "        xi=np.transpose(xi,(1,0))\n",
    "        Y=np.array([Y])\n",
    "        Y=np.transpose(Y,(1,0))\n",
    "        return (Y,xi)\n",
    "    \n",
    "    #Define the OLS model and get parameters\n",
    "    def estimate_ols_params(self,Y,xi):\n",
    "        mod = sm.OLS(Y,sm.add_constant(xi))\n",
    "        res = mod.fit()\n",
    "        return res.params\n",
    "    \n",
    "    #Pass generated data through the OLS model above to get estimates for a and b\n",
    "    def run_mc_simulation(self,a,b,c,d,f,n,sigma):\n",
    "        a_estimates = []\n",
    "        b_estimates = []\n",
    "        f_estimates = []\n",
    "        for rep in range(self.n_rep):\n",
    "            Y,xi = self.simulate_data(a,b,c,d,f,n,sigma)\n",
    "            #store estimates in a list, append with every iteration\n",
    "            a_hat,b_hat,f_hat = self.estimate_ols_params(Y,xi)\n",
    "            a_estimates = a_estimates + [a_hat]\n",
    "            b_estimates = b_estimates + [b_hat]\n",
    "            f_estimates = f_estimates + [f_hat]\n",
    "    \n",
    "        return a_estimates, b_estimates,f_estimates\n",
    "    \n",
    "    #Summarize a, b, f estimates with mean\n",
    "    def summarize_mc_simulation(self,a,b,c,d,f,n,sigma):\n",
    "        a_estimates, b_estimates,f_estimates = self.run_mc_simulation(a,b,c,d,f,n,sigma)\n",
    "        print(f'Mean intercept a={np.mean(a_estimates):.3f} \\n')\n",
    "        print(f'Mean intercept b={np.mean(b_estimates):.3f} \\n')\n",
    "        print(f'Mean intercept f={np.mean(f_estimates):.3f} \\n')\n",
    "    \n",
    "    #Plot parameter estimates\n",
    "    def plot_parameter_estimates(self,a,b,c,d,f,n,sigma,alpha):\n",
    "        a_estimates, b_estimates,f_estimates = self.run_mc_simulation(a,b,c,d,f,n,sigma)\n",
    "        fig = plt.figure()\n",
    "        plt.hist(a_estimates, label = 'intercept', alpha = alpha)\n",
    "        plt.hist(b_estimates, label = 'slope:email', alpha = alpha)\n",
    "        plt.hist(f_estimates, label = 'slope:opened',alpha=alpha)\n",
    "        plt.legend()"
   ]
  },
  {
   "cell_type": "code",
   "execution_count": 31,
   "id": "b88ec43f",
   "metadata": {
    "scrolled": true
   },
   "outputs": [
    {
     "name": "stdout",
     "output_type": "stream",
     "text": [
      "Mean intercept a=0.000 \n",
      "\n",
      "Mean intercept b=-1.000 \n",
      "\n",
      "Mean intercept f=3.000 \n",
      "\n"
     ]
    }
   ],
   "source": [
    "#MC simulation for 100 replications\n",
    "mcSim = MC_Simulator(100)\n",
    "mcSim.summarize_mc_simulation(1,2,1,3,2,10,0.1)"
   ]
  },
  {
   "cell_type": "code",
   "execution_count": 33,
   "id": "4abf9f38",
   "metadata": {},
   "outputs": [
    {
     "name": "stdout",
     "output_type": "stream",
     "text": [
      "Mean intercept a=0.000 \n",
      "\n",
      "Mean intercept b=-1.000 \n",
      "\n",
      "Mean intercept f=3.000 \n",
      "\n"
     ]
    }
   ],
   "source": [
    "#MC simulation for 1000 replications\n",
    "mcSim = MC_Simulator(1000)\n",
    "mcSim.summarize_mc_simulation(1,2,1,3,2,10,0.1)"
   ]
  },
  {
   "cell_type": "code",
   "execution_count": 34,
   "id": "edfcb717",
   "metadata": {},
   "outputs": [
    {
     "name": "stdout",
     "output_type": "stream",
     "text": [
      "N=100: bias=3.0, RMSE=300.0000000000002, Size of Treatment Effect=-1.0\n",
      "N=1000: bias=3.0, RMSE=2999.9999999999995, Size of Treatment Effect=-1.0\n"
     ]
    }
   ],
   "source": [
    "#Calculate bias, rmse, size of treatment effect estimate\n",
    "N=[100,1000]\n",
    "a=1\n",
    "b=2\n",
    "n=10\n",
    "for N in [100,1000]:\n",
    "    slope_estimates = []\n",
    "    sum_bias= 0\n",
    "    for mc_replication in range(N):\n",
    "        X = np.random.uniform(0,1,n)\n",
    "        e = np.random.normal(0,10,n)\n",
    "        O=np.random.uniform(0,1,n)\n",
    "        O=c+d*X+e\n",
    "        Y=a+b*X+f*O+e\n",
    "        xi=np.array([X,O])\n",
    "        xi=np.transpose(xi,(1,0))\n",
    "        Y=np.array([Y])\n",
    "        Y=np.transpose(Y,(1,0))\n",
    "        mod = sm.OLS(Y,sm.add_constant(xi))\n",
    "        res = mod.fit()\n",
    "        slope_estimates = slope_estimates + [res.params[1]]\n",
    "        bias = b - res.params[1]\n",
    "        sum_bias += bias\n",
    "    rmse = np.sqrt(np.mean(sum_bias**2))\n",
    "    size = res.params[1]\n",
    "    print(f'N={N}: bias={bias}, RMSE={rmse}, Size of Treatment Effect={size}')"
   ]
  }
 ],
 "metadata": {
  "kernelspec": {
   "display_name": "Python 3 (ipykernel)",
   "language": "python",
   "name": "python3"
  },
  "language_info": {
   "codemirror_mode": {
    "name": "ipython",
    "version": 3
   },
   "file_extension": ".py",
   "mimetype": "text/x-python",
   "name": "python",
   "nbconvert_exporter": "python",
   "pygments_lexer": "ipython3",
   "version": "3.9.7"
  }
 },
 "nbformat": 4,
 "nbformat_minor": 5
}
